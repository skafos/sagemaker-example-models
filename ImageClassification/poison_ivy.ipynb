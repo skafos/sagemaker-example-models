{
 "cells": [
  {
   "cell_type": "markdown",
   "metadata": {
    "colab_type": "text",
    "id": "nsUUoKA6ylfP"
   },
   "source": [
    "# Image Classifier: Poison Ivy\n",
    " Trains a model to classify a plant image as a type of poison ivy (or not).\n",
    "\n",
    "Below we do the following:\n",
    "1. Setup the training environment.\n",
    "2. Load images of different poison ivy plants and look-alikes\n",
    "3. Train an image classifier model.\n",
    "3. Convert the model to CoreML and upload it to Skafos."
   ]
  },
  {
   "cell_type": "markdown",
   "metadata": {
    "colab_type": "text",
    "id": "Ofv3ZbEvzAie"
   },
   "source": [
    "## Environment Setup\n",
    "Below we ensure `CUDA 10` is installed and then use pip to install `turicreate`, `mxnet-cu100`, and `skafos` libraries."
   ]
  },
  {
   "cell_type": "code",
   "execution_count": null,
   "metadata": {
    "colab": {},
    "colab_type": "code",
    "id": "w1hvKiczmJ39"
   },
   "outputs": [],
   "source": [
    "# Confirm that you have CUDA 10\n",
    "!nvcc --version"
   ]
  },
  {
   "cell_type": "code",
   "execution_count": null,
   "metadata": {
    "colab": {},
    "colab_type": "code",
    "id": "sSORwn78XSyS"
   },
   "outputs": [],
   "source": [
    "# Install libraries - you might need to restart the runtime after doing this\n",
    "!pip install turicreate==5.4\n",
    "# The wrong version of mxnet will be installed\n",
    "!pip uninstall -y mxnet\n",
    "# Install CUDA10-compatible version of mxnet\n",
    "!pip install mxnet-cu100\n",
    "# install Skafos python sdk\n",
    "!pip install skafos"
   ]
  },
  {
   "cell_type": "markdown",
   "metadata": {
    "colab_type": "text",
    "id": "zpByBEHXybuq"
   },
   "source": [
    "## Data Preparation and Model Training\n",
    "The training data for this example are images of various plant species (some poisonous, some not), gathered and labeled by hand. One of the limitations of this space is having enough training data. Because our data is limited, if we were to try to make a more accurate model, we would need to collect and label more images for each class.\n",
    "\n",
    "After unzipping and extracting the images, they are loaded into a Turi Create SFrame and labels are created for each image based on the path. The data is randomly split into train and test sets, where 80% of the data is used for training and 20% is used for model evaluation (if you desire). Training this model with a GPU is much faster than CPU time. By default, this runtime environment should be using a Python 3 GPU backend instance. Below, we tell Turicreate to use all available GPUs for processing."
   ]
  },
  {
   "cell_type": "code",
   "execution_count": null,
   "metadata": {
    "colab": {},
    "colab_type": "code",
    "id": "2iLBeMNumjHC"
   },
   "outputs": [],
   "source": [
    "# Import libraries and tell Turicreate to use all GPUs available - this may throw a warning\n",
    "import urllib\n",
    "import tarfile\n",
    "import os\n",
    "\n",
    "import coremltools\n",
    "import turicreate as tc\n",
    "tc.config.set_num_gpus(-1)"
   ]
  },
  {
   "cell_type": "code",
   "execution_count": null,
   "metadata": {
    "colab": {},
    "colab_type": "code",
    "id": "o-Ou9nnydRXA"
   },
   "outputs": [],
   "source": [
    "# Specify the data set download url\n",
    "data_url = \"https://s3.amazonaws.com/skafos.example.data/ImageClassifier/poisonPlants.tar.gz\"\n",
    "data_path = \"poisonPlants.tar.gz\"\n",
    "\n",
    "# Pull the compressed data and extract it\n",
    "retrieve = urllib.request.urlretrieve(data_url, data_path)\n",
    "tar = tarfile.open(data_path)\n",
    "tar.extractall()\n",
    "tar.close()"
   ]
  },
  {
   "cell_type": "code",
   "execution_count": null,
   "metadata": {
    "colab": {},
    "colab_type": "code",
    "id": "aXGJ3cetXfDB"
   },
   "outputs": [],
   "source": [
    "# Load images - you can ignore various jpeg decode errors\n",
    "data = tc.image_analysis.load_images('poisonPlants', with_path=True, ignore_failure=True)\n",
    "\n",
    "# From the path-name, create a label column. This labels each image as the appropriate plant\n",
    "data['label'] = data['path'].apply(lambda path: os.path.basename(os.path.dirname(path)))"
   ]
  },
  {
   "cell_type": "code",
   "execution_count": null,
   "metadata": {
    "colab": {},
    "colab_type": "code",
    "id": "Mo5Vh6NYdjLH"
   },
   "outputs": [],
   "source": [
    "# Make a train-test split\n",
    "train_data, test_data = data.random_split(0.8)"
   ]
  },
  {
   "cell_type": "code",
   "execution_count": null,
   "metadata": {
    "colab": {},
    "colab_type": "code",
    "id": "_eip_72XZLTx"
   },
   "outputs": [],
   "source": [
    "# Train an image classification model - consider increasing max_iterations\n",
    "model = tc.image_classifier.create(\n",
    "    dataset=train_data,\n",
    "    target='label',\n",
    "    model='resnet-50',\n",
    "    batch_size=4,\n",
    "    max_iterations=10\n",
    ")\n",
    "\n",
    "# Image Classification Training Docs:\n",
    "# https://apple.github.io/turicreate/docs/api/generated/turicreate.image_classifier.create.html#turicreate.image_classifier.create"
   ]
  },
  {
   "cell_type": "markdown",
   "metadata": {
    "colab_type": "text",
    "id": "3wcLKFljyffD"
   },
   "source": [
    "## Model Evaluation"
   ]
  },
  {
   "cell_type": "code",
   "execution_count": null,
   "metadata": {
    "colab": {},
    "colab_type": "code",
    "id": "wFktkB6mxHkd"
   },
   "outputs": [],
   "source": [
    "# Let's see how the model performs on the hold out test data\n",
    "predictions = model.predict(test_data)\n",
    "accuracy = tc.evaluation.accuracy(test_data['label'], predictions)\n",
    "print(f\"Image classifier is {accuracy*100} % accurate on the testing dataset\", flush=True)"
   ]
  },
  {
   "cell_type": "markdown",
   "metadata": {
    "colab_type": "text",
    "id": "HQWm5UiayiZj"
   },
   "source": [
    "## Model Export and Skafos Upload\n",
    "- Convert the model to CoreML format so that it can run on an iOS device. Then deliver the model to your apps with **[Skafos](https://skafos.ai)**.\n",
    "\n",
    "- If you don't already have an account, Sign Up for one **[here](https://dashboard.skafos.ai)**. \n",
    "- Once you've signed up for an account, grab an API token from your account settings."
   ]
  },
  {
   "cell_type": "code",
   "execution_count": null,
   "metadata": {
    "colab": {},
    "colab_type": "code",
    "id": "Xgst0CWZdC8R"
   },
   "outputs": [],
   "source": [
    "# Specify the CoreML model name\n",
    "model_name = 'ImageClassifier'\n",
    "coreml_model_name = model_name + '.mlmodel'\n",
    "\n",
    "# Export the trained model to CoreML format\n",
    "res = model.export_coreml(coreml_model_name)"
   ]
  },
  {
   "cell_type": "code",
   "execution_count": null,
   "metadata": {
    "colab": {},
    "colab_type": "code",
    "id": "n_chKCXqdHKB"
   },
   "outputs": [],
   "source": [
    "import skafos\n",
    "from skafos import models\n",
    "import os\n",
    "\n",
    "# Set your API Token first for repeated use\n",
    "os.environ[\"SKAFOS_API_TOKEN\"] = \"<YOUR-SKAFOS-API-TOKEN>\"\n",
    "skafos.summary()"
   ]
  },
  {
   "cell_type": "code",
   "execution_count": null,
   "metadata": {
    "colab": {},
    "colab_type": "code",
    "id": "n_chKCXqdHKB"
   },
   "outputs": [],
   "source": [
    "# You can retrieve this info with skafos.summary()\n",
    "org_name = \"<YOUR-SKAFOS-ORG-NAME>\"    # Example: \"mike-gmail-com-467h2\"\n",
    "app_name = \"<YOUR-SKAFOS-APP-NAME>\"    # Example: \"ImageClassification-App\"\n",
    "model_name = \"<YOUR-MODEL-NAME>\"       # Example: \"ImageClassificationModel\"\n",
    "\n",
    "# Upload model version to Skafos\n",
    "model_upload_result = models.upload_version(\n",
    "    files=\"ImageClassifier.mlmodel\",\n",
    "    org_name=org_name,\n",
    "    app_name=app_name,\n",
    "    model_name=model_name\n",
    ")"
   ]
  }
 ],
 "metadata": {
  "accelerator": "GPU",
  "colab": {
   "collapsed_sections": [],
   "name": "poison_ivy.ipynb",
   "provenance": [],
   "version": "0.3.2"
  },
  "kernelspec": {
   "display_name": "Python 3",
   "language": "python",
   "name": "python3"
  },
  "language_info": {
   "codemirror_mode": {
    "name": "ipython",
    "version": 3
   },
   "file_extension": ".py",
   "mimetype": "text/x-python",
   "name": "python",
   "nbconvert_exporter": "python",
   "pygments_lexer": "ipython3",
   "version": "3.7.1"
  }
 },
 "nbformat": 4,
 "nbformat_minor": 2
}
