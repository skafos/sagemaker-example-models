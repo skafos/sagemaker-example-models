{
 "cells": [
  {
   "cell_type": "markdown",
   "metadata": {
    "colab_type": "text",
    "id": "wAJumBbf5nJj"
   },
   "source": [
    "# Text Classification: Spam or Ham\n",
    " Trains a model to classify user text as \"spam\" (bad) or \"ham\" (good).\n",
    "\n",
    "Below we do the following:\n",
    "1. Setup the training environment.\n",
    "2. Load and clean the SMS text data (from [UCI ML Repository](https://archive.ics.uci.edu/ml/datasets/SMS+Spam+Collection)).\n",
    "3. Build and evaluate the spam classifier model.\n",
    "4. Convert the model to CoreML and upload to Skafos."
   ]
  },
  {
   "cell_type": "markdown",
   "metadata": {
    "colab_type": "text",
    "id": "pGqDW64H6T1r"
   },
   "source": [
    "## Environment Setup\n",
    "All we need to do is install the turicreate and skafos libraries to get started. This example **doesn't** use a GPU for training."
   ]
  },
  {
   "cell_type": "code",
   "execution_count": null,
   "metadata": {
    "colab": {},
    "colab_type": "code",
    "id": "fs1kSU1z6aML"
   },
   "outputs": [],
   "source": [
    "# Install turicreate and skafos\n",
    "!pip install turicreate==5.4\n",
    "!pip install skafos"
   ]
  },
  {
   "cell_type": "markdown",
   "metadata": {
    "colab_type": "text",
    "id": "DvvjPxCQ6itJ"
   },
   "source": [
    "## Data Preparation and Model Training\n",
    "The data loaded below is SMS text message data labeled with \"spam\" or \"ham\". First, the data is processed and then it's split into training and testing datasets."
   ]
  },
  {
   "cell_type": "code",
   "execution_count": null,
   "metadata": {
    "colab": {},
    "colab_type": "code",
    "id": "znI8oCSc5nJl"
   },
   "outputs": [],
   "source": [
    "# Import libraries\n",
    "import requests, zipfile, io\n",
    "\n",
    "import turicreate as tc"
   ]
  },
  {
   "cell_type": "code",
   "execution_count": null,
   "metadata": {
    "colab": {},
    "colab_type": "code",
    "id": "6gLDdRfk5nJt"
   },
   "outputs": [],
   "source": [
    "# Functions to load spam dataset\n",
    "def load_spam_dataset():\n",
    "    spam_url = 'https://archive.ics.uci.edu/ml/machine-learning-databases/00228/smsspamcollection.zip'\n",
    "    _request_and_unzip(spam_url, 'spam/')\n",
    "    with open(\"datasets/spam/SMSSpamCollection\", \"r\", encoding=\"utf-8\") as infile:\n",
    "        d = infile.readlines()\n",
    "    return d\n",
    "\n",
    "def _request_and_unzip(url, folder):\n",
    "    r = requests.get(url)\n",
    "    if r.ok:\n",
    "        z = zipfile.ZipFile(io.BytesIO(r.content))\n",
    "        z.extractall(f'datasets/{folder}')\n"
   ]
  },
  {
   "cell_type": "code",
   "execution_count": null,
   "metadata": {
    "colab": {},
    "colab_type": "code",
    "id": "nQmBq_GW5nJv"
   },
   "outputs": [],
   "source": [
    "# Fetch data and take a look\n",
    "spam_data = load_spam_dataset()\n",
    "print(spam_data[:4], flush=True)"
   ]
  },
  {
   "cell_type": "code",
   "execution_count": null,
   "metadata": {
    "colab": {},
    "colab_type": "code",
    "id": "k-8EPHOI5nJy"
   },
   "outputs": [],
   "source": [
    "# Split text data from its target variable (\"ham\", \"spam\")\n",
    "spam_labels = [line.split('\\t')[0] for line in spam_data]\n",
    "spam_text = [line.split('\\t')[1].replace('\\n', '') for line in spam_data]\n",
    "spam_df = tc.SFrame({'label': spam_labels, 'text': spam_text})"
   ]
  },
  {
   "cell_type": "code",
   "execution_count": null,
   "metadata": {
    "colab": {},
    "colab_type": "code",
    "id": "QUA5N5Yf5nJ0"
   },
   "outputs": [],
   "source": [
    "# What does our resulting dataframe look like?\n",
    "spam_df.head(5)"
   ]
  },
  {
   "cell_type": "code",
   "execution_count": null,
   "metadata": {
    "colab": {},
    "colab_type": "code",
    "id": "JnPs2ekJ5nJ3"
   },
   "outputs": [],
   "source": [
    "# Make a train-test split\n",
    "train_data, test_data = spam_df.random_split(0.8)"
   ]
  },
  {
   "cell_type": "code",
   "execution_count": null,
   "metadata": {
    "colab": {},
    "colab_type": "code",
    "id": "pGNEwx4m5nJ6"
   },
   "outputs": [],
   "source": [
    "# Train the spam filter classification model, this takes approximately 5-10 seconds using CPU.\n",
    "spam_model = tc.text_classifier.create(\n",
    "    train_data,\n",
    "    target='label',\n",
    "    features=['text'],\n",
    "    drop_stop_words=True,\n",
    "    word_count_threshold=2\n",
    ")"
   ]
  },
  {
   "cell_type": "markdown",
   "metadata": {
    "colab_type": "text",
    "id": "rnq9SWzQXcQN"
   },
   "source": [
    "## Model Evaluation"
   ]
  },
  {
   "cell_type": "code",
   "execution_count": null,
   "metadata": {
    "colab": {},
    "colab_type": "code",
    "id": "wISEZMyT5nJ_"
   },
   "outputs": [],
   "source": [
    "# The counts where target and predicted label are the same (meaning the model got it right) should be higher\n",
    "predictions = spam_model.predict(test_data)\n",
    "tc.evaluation.confusion_matrix(test_data['label'], predictions)"
   ]
  },
  {
   "cell_type": "code",
   "execution_count": null,
   "metadata": {
    "colab": {},
    "colab_type": "code",
    "id": "JF-4KeAI5nKB"
   },
   "outputs": [],
   "source": [
    "# Model testing accuracy\n",
    "accuracy = tc.evaluation.accuracy(test_data['label'], predictions)\n",
    "print(f'Spam filter model has a testing accuracy of {accuracy*100} % !', flush=True)"
   ]
  },
  {
   "cell_type": "code",
   "execution_count": null,
   "metadata": {
    "colab": {},
    "colab_type": "code",
    "id": "eoB8pgzt5nKF"
   },
   "outputs": [],
   "source": [
    "# generate some sample text data\n",
    "sample_text = ['WINNER! You have been selected for a CASH prize!', 'hey how are you?',\n",
    "               'Do you want to be a millionaire? You can for free.0020', 'What is the weather like today?']\n",
    "\n",
    "sample_predictions = spam_model.predict(tc.SFrame({'text': sample_text}))\n",
    "\n",
    "# investiage the results\n",
    "for t, p in zip(sample_text, sample_predictions):\n",
    "    print(t, '----', p)"
   ]
  },
  {
   "cell_type": "markdown",
   "metadata": {
    "colab_type": "text",
    "id": "vXf1EXVnH8m5"
   },
   "source": [
    "## Model Export and Skafos Upload\n",
    "- Convert the model to CoreML format so that it can run on an iOS device. Then deliver the model to your apps with **[Skafos](https://skafos.ai)**.\n",
    "\n",
    "- If you don't already have an account, Sign Up for one **[here](https://dashboard.skafos.ai)**. \n",
    "- Once you've signed up for an account, grab an API token from your account settings."
   ]
  },
  {
   "cell_type": "code",
   "execution_count": null,
   "metadata": {
    "colab": {},
    "colab_type": "code",
    "id": "4q7OOW43IFYU"
   },
   "outputs": [],
   "source": [
    "# Specify the CoreML model name\n",
    "model_name = 'TextClassifier'\n",
    "coreml_model_name = model_name + '.mlmodel'\n",
    "\n",
    "# Export the trained model to CoreML format\n",
    "res = spam_model.export_coreml(coreml_model_name)"
   ]
  },
  {
   "cell_type": "code",
   "execution_count": null,
   "metadata": {
    "colab": {},
    "colab_type": "code",
    "id": "PKXjWGfqIP7B"
   },
   "outputs": [],
   "source": [
    "import skafos\n",
    "from skafos import models\n",
    "import os\n",
    "\n",
    "# Set your API Token first for repeated use\n",
    "os.environ[\"SKAFOS_API_TOKEN\"] = \"<YOUR-SKAFOS-API-TOKEN>\"\n",
    "skafos.summary()"
   ]
  },
  {
   "cell_type": "code",
   "execution_count": null,
   "metadata": {
    "colab": {},
    "colab_type": "code",
    "id": "PKXjWGfqIP7B"
   },
   "outputs": [],
   "source": [
    "# You can retrieve this info with skafos.summary()\n",
    "org_name = \"<YOUR-SKAFOS-ORG-NAME>\"    # Example: \"mike-gmail-com-467h2\"\n",
    "app_name = \"<YOUR-SKAFOS-APP-NAME>\"    # Example: \"Text-App\"\n",
    "model_name = \"<YOUR-MODEL-NAME>\"       # Example: \"TextClassifierModel\"\n",
    "\n",
    "# Upload model version to Skafos\n",
    "model_upload_result = models.upload_version(\n",
    "    files=\"TextClassifier.mlmodel\",\n",
    "    org_name=org_name,\n",
    "    app_name=app_name,\n",
    "    model_name=model_name\n",
    ")"
   ]
  }
 ],
 "metadata": {
  "colab": {
   "collapsed_sections": [],
   "name": "spam_or_ham.ipynb",
   "provenance": [],
   "version": "0.3.2"
  },
  "kernelspec": {
   "display_name": "Python 3",
   "language": "python",
   "name": "python3"
  },
  "language_info": {
   "codemirror_mode": {
    "name": "ipython",
    "version": 3
   },
   "file_extension": ".py",
   "mimetype": "text/x-python",
   "name": "python",
   "nbconvert_exporter": "python",
   "pygments_lexer": "ipython3",
   "version": "3.7.1"
  }
 },
 "nbformat": 4,
 "nbformat_minor": 2
}
