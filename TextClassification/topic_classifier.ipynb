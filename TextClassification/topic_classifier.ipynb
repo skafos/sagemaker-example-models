{
 "cells": [
  {
   "cell_type": "markdown",
   "metadata": {
    "colab_type": "text",
    "id": "OwP_hLw_nWNQ"
   },
   "source": [
    "# Text Classification: Topics\n",
    "Trains a model to classify user text into one of 20 different topics.\n",
    "\n",
    "\n",
    "Below we do the following:\n",
    "\n",
    "1. Setup the training environment.\n",
    "2. Load labeled text training data.\n",
    "3. Build a topic classification model.\n",
    "4. Convert the model to CoreML and upload to Skafos.\n",
    "\n",
    "The example is based on [Turi Create's Text Classifier](https://github.com/apple/turicreate/tree/master/userguide/text_classifier)."
   ]
  },
  {
   "cell_type": "markdown",
   "metadata": {
    "colab_type": "text",
    "id": "J1bbAUbsnctE"
   },
   "source": [
    "## Environment Setup\n",
    "All we need to do is install the turicreate and skafos libraries to get started. This example **doesn't** use a GPU for training."
   ]
  },
  {
   "cell_type": "code",
   "execution_count": null,
   "metadata": {
    "colab": {},
    "colab_type": "code",
    "id": "bS9FYiQInb3x"
   },
   "outputs": [],
   "source": [
    "# Install turicreate and skafos\n",
    "!pip install turicreate==5.4\n",
    "!pip install skafos"
   ]
  },
  {
   "cell_type": "markdown",
   "metadata": {
    "colab_type": "text",
    "id": "gyQndlOqnjno"
   },
   "source": [
    "## Data Preparation and Model Training\n",
    "The training & testing data for this example is pulled directly from the sklearn package (a popular machine learning library in the Python world), comprised of approximately 20,000 newsgroup documents and partitioned (nearly) evenly across 20 different newsgroups. We use this data to train a topic classifier: *given a sample of text, assign a category that best summarizes the content*. The original dataset can be found [here](http://qwone.com/~jason/20Newsgroups/).\n",
    "\n"
   ]
  },
  {
   "cell_type": "code",
   "execution_count": null,
   "metadata": {
    "colab": {},
    "colab_type": "code",
    "id": "Ui2thoXv5Qkq"
   },
   "outputs": [],
   "source": [
    "# Import libraries\n",
    "import pandas as pd\n",
    "import turicreate as tc\n",
    "from sklearn.datasets import fetch_20newsgroups"
   ]
  },
  {
   "cell_type": "code",
   "execution_count": null,
   "metadata": {
    "colab": {},
    "colab_type": "code",
    "id": "WqdLBjEu5pz0"
   },
   "outputs": [],
   "source": [
    "# Select training and testing data. This creates newsgroups_train and newsgroups_test as sklearn.utils.Bunch objects\n",
    "newsgroup_train = fetch_20newsgroups(subset='train', remove=('headers', 'footers', 'quotes'), shuffle='True')\n",
    "newsgroup_test = fetch_20newsgroups(subset='test', remove=('headers', 'footers', 'quotes'), shuffle='True')"
   ]
  },
  {
   "cell_type": "code",
   "execution_count": null,
   "metadata": {
    "colab": {},
    "colab_type": "code",
    "id": "-gXBddNU0Sj4"
   },
   "outputs": [],
   "source": [
    "# Convert integer labels to text label names for both training and testing data\n",
    "train_label_names = dict(enumerate(newsgroup_train['target_names']))\n",
    "train_labels = [train_label_names.get(x) for x in newsgroup_train['target']]\n",
    "\n",
    "test_label_names = dict(enumerate(newsgroup_test['target_names']))\n",
    "test_labels = [test_label_names.get(x) for x in newsgroup_test['target']]"
   ]
  },
  {
   "cell_type": "code",
   "execution_count": null,
   "metadata": {
    "colab": {},
    "colab_type": "code",
    "id": "CgYjjaQj0h8u"
   },
   "outputs": [],
   "source": [
    "# Construct training and testing dataframes\n",
    "train_data = tc.SFrame({'text': newsgroup_train['data'], 'label': train_labels})\n",
    "test_data = tc.SFrame({'text': newsgroup_test['data'], 'label': test_labels})\n",
    "\n",
    "# Strip out new lines and other characters here\n",
    "# In the future, you can include more text cleaning logic here\n",
    "# This is useful for normalizing/standardizing your text input in order to build a more accurate classifier\n",
    "train_data['text'] = train_data['text'].apply(lambda x: x.replace('\\n', ' ').replace('/', '').replace('\\\\', ''))\n",
    "test_data['text'] = test_data['text'].apply(lambda x: x.replace('\\n', ' ').replace('/', '').replace('\\\\', ''))"
   ]
  },
  {
   "cell_type": "code",
   "execution_count": null,
   "metadata": {
    "colab": {},
    "colab_type": "code",
    "id": "G_UtPgqV0h-1"
   },
   "outputs": [],
   "source": [
    "# Take a look at our training SFrame\n",
    "train_data.head()"
   ]
  },
  {
   "cell_type": "code",
   "execution_count": null,
   "metadata": {
    "colab": {},
    "colab_type": "code",
    "id": "U6gRPU9W7jex"
   },
   "outputs": [],
   "source": [
    "# Train a topic classification model - this may take a few minutes to train\n",
    "model = tc.text_classifier.create(\n",
    "    dataset=train_data,\n",
    "    target='label',\n",
    "    features=['text'],\n",
    "    drop_stop_words=True,\n",
    "    word_count_threshold=2\n",
    ")\n",
    "\n",
    "# Text Classifier Training Docs:\n",
    "# https://apple.github.io/turicreate/docs/api/generated/turicreate.text_classifier.create.html#turicreate.text_classifier.create"
   ]
  },
  {
   "cell_type": "markdown",
   "metadata": {
    "colab_type": "text",
    "id": "-cn7NADOnnpY"
   },
   "source": [
    "## Model Evaluation\n"
   ]
  },
  {
   "cell_type": "code",
   "execution_count": null,
   "metadata": {
    "colab": {},
    "colab_type": "code",
    "id": "ZBKgB64p6s7K"
   },
   "outputs": [],
   "source": [
    "# Now that the model is trained, we can evaluate against a test set\n",
    "test_predictions = model.predict(test_data)\n",
    "accuracy = tc.evaluation.accuracy(test_data['label'], test_predictions)\n",
    "print(f'Topic classifier model has a testing accuracy of {accuracy*100} % !', flush=True)"
   ]
  },
  {
   "cell_type": "code",
   "execution_count": null,
   "metadata": {
    "colab": {},
    "colab_type": "code",
    "id": "8sYeL9PyyVh5"
   },
   "outputs": [],
   "source": [
    "# Classify a new example of text - try different text values here\n",
    "example_text = {\"text\": [\"My computer is broken and I need to take it to the repair shop to have electrical components fixed.\"]}\n",
    "example_prediction = model.classify(tc.SFrame(example_text))\n",
    "print(example_prediction, flush=True)"
   ]
  },
  {
   "cell_type": "markdown",
   "metadata": {
    "colab_type": "text",
    "id": "60uOXeIsnqCQ"
   },
   "source": [
    "## Model Export and Skafos Upload\n",
    "- Convert the model to CoreML format so that it can run on an iOS device. Then deliver the model to your apps with **[Skafos](https://skafos.ai)**.\n",
    "\n",
    "- If you don't already have an account, Sign Up for one **[here](https://dashboard.skafos.ai)**. \n",
    "- Once you've signed up for an account, grab an API token from your account settings."
   ]
  },
  {
   "cell_type": "code",
   "execution_count": null,
   "metadata": {
    "colab": {},
    "colab_type": "code",
    "id": "tUqqRq8V6vkN"
   },
   "outputs": [],
   "source": [
    "# Specify the CoreML model name\n",
    "model_name = 'TextClassifier'\n",
    "coreml_model_name = model_name + '.mlmodel'\n",
    "\n",
    "# Export the trained model to CoreML format\n",
    "res = model.export_coreml(coreml_model_name) \n"
   ]
  },
  {
   "cell_type": "code",
   "execution_count": null,
   "metadata": {
    "colab": {},
    "colab_type": "code",
    "id": "H5cVPNi5t0Yi"
   },
   "outputs": [],
   "source": [
    "import skafos\n",
    "from skafos import models\n",
    "import os\n",
    "\n",
    "# Set your API Token first for repeated use\n",
    "os.environ[\"SKAFOS_API_TOKEN\"] = \"<YOUR-SKAFOS-API-TOKEN>\"\n",
    "skafos.summary()"
   ]
  },
  {
   "cell_type": "code",
   "execution_count": null,
   "metadata": {
    "colab": {},
    "colab_type": "code",
    "id": "H5cVPNi5t0Yi"
   },
   "outputs": [],
   "source": [
    "# You can retrieve this info with skafos.summary()\n",
    "org_name = \"<YOUR-SKAFOS-ORG-NAME>\"    # Example: \"mike-gmail-com-467h2\"\n",
    "app_name = \"<YOUR-SKAFOS-APP-NAME>\"    # Example: \"Text-App\"\n",
    "model_name = \"<YOUR-MODEL-NAME>\"       # Example: \"TextClassifierModel\"\n",
    "\n",
    "# Upload model version to Skafos\n",
    "model_upload_result = models.upload_version(\n",
    "    files=\"TextClassifier.mlmodel\",\n",
    "    org_name=org_name,\n",
    "    app_name=app_name,\n",
    "    model_name=model_name\n",
    ")"
   ]
  }
 ],
 "metadata": {
  "colab": {
   "collapsed_sections": [],
   "name": "topic_classifier.ipynb",
   "provenance": [],
   "version": "0.3.2"
  },
  "kernelspec": {
   "display_name": "Python 3",
   "language": "python",
   "name": "python3"
  },
  "language_info": {
   "codemirror_mode": {
    "name": "ipython",
    "version": 3
   },
   "file_extension": ".py",
   "mimetype": "text/x-python",
   "name": "python",
   "nbconvert_exporter": "python",
   "pygments_lexer": "ipython3",
   "version": "3.7.1"
  }
 },
 "nbformat": 4,
 "nbformat_minor": 2
}
